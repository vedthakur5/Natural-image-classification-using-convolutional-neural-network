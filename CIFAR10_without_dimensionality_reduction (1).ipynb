{
  "nbformat": 4,
  "nbformat_minor": 0,
  "metadata": {
    "colab": {
      "name": "CIFAR10_without_dimensionality_reduction.ipynb",
      "provenance": [],
      "collapsed_sections": []
    },
    "kernelspec": {
      "name": "python3",
      "display_name": "Python 3"
    },
    "language_info": {
      "name": "python"
    }
  },
  "cells": [
    {
      "cell_type": "code",
      "metadata": {
        "id": "DmUvrelEZG1I"
      },
      "source": [
        "import pandas as pd\n",
        "import numpy as np\n",
        "import matplotlib.pyplot as plt\n",
        "import seaborn as sns; sns.set()\n",
        "import cv2\n",
        "from keras.datasets import cifar10\n",
        "from sklearn.preprocessing import OneHotEncoder\n",
        "from sklearn.metrics import confusion_matrix, accuracy_score\n",
        "from keras.layers import Conv2D, MaxPool2D, Flatten, Dense, Dropout\n",
        "from keras.models import Sequential, load_model\n",
        "from keras.callbacks import EarlyStopping\n",
        "from sklearn.svm import SVC \n",
        "from sklearn.discriminant_analysis import LinearDiscriminantAnalysis\n",
        "import xgboost as xgb\n",
        "from sklearn.ensemble import RandomForestClassifier\n",
        "from sklearn.naive_bayes import GaussianNB"
      ],
      "execution_count": null,
      "outputs": []
    },
    {
      "cell_type": "markdown",
      "metadata": {
        "id": "iMduaC8Qkytj"
      },
      "source": [
        "# **CIFAR10 images classification using different algorithms**"
      ]
    },
    {
      "cell_type": "markdown",
      "metadata": {
        "id": "43Fkgt-7h3TB"
      },
      "source": [
        "<font color = 'yellow'><font size = 4>1. **Convolutional Neural Network (CNN)**"
      ]
    },
    {
      "cell_type": "markdown",
      "metadata": {
        "id": "l1XI-rpBjmQu"
      },
      "source": [
        "Splitting the CIFAR10 dataset into training and testing"
      ]
    },
    {
      "cell_type": "code",
      "metadata": {
        "colab": {
          "base_uri": "https://localhost:8080/"
        },
        "id": "MkMRKikYZnuN",
        "outputId": "47de3157-b693-4acc-f006-0c1b14c80696"
      },
      "source": [
        "(X_train, y_train), (X_test, y_test) = cifar10.load_data()"
      ],
      "execution_count": null,
      "outputs": [
        {
          "output_type": "stream",
          "text": [
            "Downloading data from https://www.cs.toronto.edu/~kriz/cifar-10-python.tar.gz\n",
            "170500096/170498071 [==============================] - 4s 0us/step\n"
          ],
          "name": "stdout"
        }
      ]
    },
    {
      "cell_type": "code",
      "metadata": {
        "colab": {
          "base_uri": "https://localhost:8080/"
        },
        "id": "MpyntKADhiFk",
        "outputId": "84447a0c-d56f-4eb1-f11d-e7cfea6c6503"
      },
      "source": [
        "print(\"shape of training data (X)\" ,X_train.shape)\n",
        "print(\"shape of training data(y)\" ,y_train.shape)\n",
        "print(\"shape of testing data(X)\" ,X_test.shape)\n",
        "print(\"shape of testing data(y)\" ,y_test.shape)"
      ],
      "execution_count": null,
      "outputs": [
        {
          "output_type": "stream",
          "text": [
            "shape of training data (X) (50000, 32, 32, 3)\n",
            "shape of training data(y) (50000, 1)\n",
            "shape of testing data(X) (10000, 32, 32, 3)\n",
            "shape of testing data(y) (10000, 1)\n"
          ],
          "name": "stdout"
        }
      ]
    },
    {
      "cell_type": "markdown",
      "metadata": {
        "id": "_MZMJ4s3j8q4"
      },
      "source": [
        "Converting both X_train and X_test to grayscale"
      ]
    },
    {
      "cell_type": "code",
      "metadata": {
        "id": "Az5ddQhFiBlr"
      },
      "source": [
        "X_train = np.array([cv2.cvtColor(image, cv2.COLOR_BGR2GRAY) for image in X_train])\n",
        "X_test = np.array([cv2.cvtColor(image, cv2.COLOR_BGR2GRAY) for image in X_test])"
      ],
      "execution_count": null,
      "outputs": []
    },
    {
      "cell_type": "code",
      "metadata": {
        "colab": {
          "base_uri": "https://localhost:8080/"
        },
        "id": "QjE4U44diBv_",
        "outputId": "39ea26a5-63d8-4c64-b90e-09b76c1976d2"
      },
      "source": [
        "print(\"shape of training data (X)\" ,X_train.shape)\n",
        "print(\"shape of testing data(X)\" ,X_test.shape)"
      ],
      "execution_count": null,
      "outputs": [
        {
          "output_type": "stream",
          "text": [
            "shape of training data (X) (50000, 32, 32)\n",
            "shape of testing data(X) (10000, 32, 32)\n"
          ],
          "name": "stdout"
        }
      ]
    },
    {
      "cell_type": "markdown",
      "metadata": {
        "id": "Y7t8QDSskHC9"
      },
      "source": [
        "Converting output column to desired form"
      ]
    },
    {
      "cell_type": "code",
      "metadata": {
        "id": "ZyuBwC6-is_T"
      },
      "source": [
        "X_train  = X_train/255\n",
        "X_test  = X_test/255"
      ],
      "execution_count": null,
      "outputs": []
    },
    {
      "cell_type": "code",
      "metadata": {
        "id": "YZ4zHFbVhlGB"
      },
      "source": [
        "labels = ['airplane', 'automobile', 'bird', 'cat', 'deer', 'dog', 'frog', 'horse', 'ship', 'truck']\n",
        "\n",
        "ohe = OneHotEncoder(sparse=False)\n",
        "ohe.fit(y_train)\n",
        "\n",
        "y_train = ohe.transform(y_train)\n",
        "y_test = ohe.transform(y_test)"
      ],
      "execution_count": null,
      "outputs": []
    },
    {
      "cell_type": "markdown",
      "metadata": {
        "id": "OCEMcZCmmaOp"
      },
      "source": [
        "Defining input shape for CNN"
      ]
    },
    {
      "cell_type": "code",
      "metadata": {
        "id": "MEJ8OO68i8fU"
      },
      "source": [
        "X_train = X_train.reshape(X_train.shape[0], X_train.shape[1], X_train.shape[2], 1)\n",
        "X_test = X_test.reshape(X_test.shape[0], X_test.shape[1], X_test.shape[2], 1)\n",
        "\n",
        "input_shape = (X_train.shape[1], X_train.shape[2], 1)"
      ],
      "execution_count": null,
      "outputs": []
    },
    {
      "cell_type": "markdown",
      "metadata": {
        "id": "fxPyx467meGa"
      },
      "source": [
        "Building model architecture (This is a basic architrcture used in CNN)"
      ]
    },
    {
      "cell_type": "code",
      "metadata": {
        "id": "lcnb6rXNgoIE"
      },
      "source": [
        "model = Sequential()\n",
        "model.add(Conv2D(16, (3, 3), activation='relu', strides=(1, 1), padding='same', input_shape=(32,32,1)))\n",
        "model.add(Conv2D(32, (3, 3), activation='relu', strides=(1, 1), padding='same'))\n",
        "model.add(Conv2D(64, (3, 3), activation='relu', strides=(1, 1), padding='same'))\n",
        "model.add(MaxPool2D((2, 2)))\n",
        "model.add(Conv2D(16, (3, 3), activation='relu', strides=(1, 1), padding='same'))\n",
        "model.add(Conv2D(32, (3, 3), activation='relu', strides=(1, 1), padding='same'))\n",
        "model.add(Conv2D(64, (3, 3), activation='relu', strides=(1, 1), padding='same'))\n",
        "model.add(MaxPool2D((2, 2)))\n",
        "model.add(Flatten())\n",
        "model.add(Dense(245, activation='relu'))\n",
        "model.add(Dropout(0.5))\n",
        "model.add(Dense(64, activation='relu'))\n",
        "model.add(Dense(64, activation='relu'))\n",
        "model.add(Dense(64, activation='relu'))\n",
        "model.add(Dense(10, activation='softmax'))\n",
        "\n",
        "model.compile(loss='categorical_crossentropy', optimizer='adam',metrics=['acc'])\n",
        "stop = EarlyStopping(monitor='val_loss', mode='min', verbose=1, patience=3)"
      ],
      "execution_count": null,
      "outputs": []
    },
    {
      "cell_type": "markdown",
      "metadata": {
        "id": "C3vDAEVWaCZ-"
      },
      "source": [
        "Fitting training data to the model"
      ]
    },
    {
      "cell_type": "code",
      "metadata": {
        "colab": {
          "base_uri": "https://localhost:8080/"
        },
        "id": "ETYyMJPcgoJu",
        "outputId": "79b4805c-0fbc-40c3-96d0-381d5b07d483"
      },
      "source": [
        "history = model.fit(X_train.reshape(50000, 32, 32,1), y_train, epochs=20, \n",
        "                    batch_size=32, validation_data=(X_test.reshape(10000, 32, 32,1), y_test), callbacks=[stop])"
      ],
      "execution_count": null,
      "outputs": [
        {
          "output_type": "stream",
          "text": [
            "Epoch 1/20\n",
            "1563/1563 [==============================] - 310s 198ms/step - loss: 2.1121 - acc: 0.1942 - val_loss: 1.5588 - val_acc: 0.4280\n",
            "Epoch 2/20\n",
            "1563/1563 [==============================] - 309s 198ms/step - loss: 1.4621 - acc: 0.4739 - val_loss: 1.2545 - val_acc: 0.5550\n",
            "Epoch 3/20\n",
            "1563/1563 [==============================] - 309s 198ms/step - loss: 1.2332 - acc: 0.5627 - val_loss: 1.0998 - val_acc: 0.6242\n",
            "Epoch 4/20\n",
            "1563/1563 [==============================] - 308s 197ms/step - loss: 1.0963 - acc: 0.6140 - val_loss: 1.0262 - val_acc: 0.6404\n",
            "Epoch 5/20\n",
            "1563/1563 [==============================] - 308s 197ms/step - loss: 1.0004 - acc: 0.6504 - val_loss: 0.9736 - val_acc: 0.6634\n",
            "Epoch 6/20\n",
            "1563/1563 [==============================] - 310s 199ms/step - loss: 0.9250 - acc: 0.6768 - val_loss: 0.9660 - val_acc: 0.6638\n",
            "Epoch 7/20\n",
            "1563/1563 [==============================] - 308s 197ms/step - loss: 0.8610 - acc: 0.7000 - val_loss: 0.9270 - val_acc: 0.6842\n",
            "Epoch 8/20\n",
            "1563/1563 [==============================] - 307s 196ms/step - loss: 0.8081 - acc: 0.7223 - val_loss: 0.9017 - val_acc: 0.6920\n",
            "Epoch 9/20\n",
            "1563/1563 [==============================] - 311s 199ms/step - loss: 0.7522 - acc: 0.7380 - val_loss: 0.9244 - val_acc: 0.6868\n",
            "Epoch 10/20\n",
            "1563/1563 [==============================] - 310s 198ms/step - loss: 0.7163 - acc: 0.7519 - val_loss: 0.9431 - val_acc: 0.6828\n",
            "Epoch 11/20\n",
            "1563/1563 [==============================] - 307s 196ms/step - loss: 0.6717 - acc: 0.7692 - val_loss: 0.9110 - val_acc: 0.7013\n",
            "Epoch 00011: early stopping\n"
          ],
          "name": "stdout"
        }
      ]
    },
    {
      "cell_type": "markdown",
      "metadata": {
        "id": "YIsIL-VxkzZ-"
      },
      "source": [
        "Predicting output on the testing data"
      ]
    },
    {
      "cell_type": "code",
      "metadata": {
        "id": "kfk_szE-khED"
      },
      "source": [
        "cnn_pred = model.predict(X_test.reshape(10000,32,32,1))\n",
        "cnn_pred = ohe.inverse_transform(cnn_pred)"
      ],
      "execution_count": null,
      "outputs": []
    },
    {
      "cell_type": "code",
      "metadata": {
        "id": "2uFnsAU5kiBR"
      },
      "source": [
        "y_test = ohe.inverse_transform(y_test)"
      ],
      "execution_count": null,
      "outputs": []
    },
    {
      "cell_type": "markdown",
      "metadata": {
        "id": "lbNjpSO8lAe6"
      },
      "source": [
        "Model evaluation"
      ]
    },
    {
      "cell_type": "code",
      "metadata": {
        "colab": {
          "base_uri": "https://localhost:8080/"
        },
        "id": "kqPGZSGGklob",
        "outputId": "e41be1be-4e92-4613-9735-a0cb6b6adf44"
      },
      "source": [
        "ac=accuracy_score(y_test , cnn_pred)\n",
        "print(\"----------------\")\n",
        "print(\"\")\n",
        "print(\"Accuracy using CNN: \",ac*100)\n",
        "print(\"\")\n",
        "print(\"----------------\")"
      ],
      "execution_count": null,
      "outputs": [
        {
          "output_type": "stream",
          "text": [
            "----------------\n",
            "\n",
            "Accuracy using CNN:  70.13000000000001\n",
            "\n",
            "----------------\n"
          ],
          "name": "stdout"
        }
      ]
    },
    {
      "cell_type": "code",
      "metadata": {
        "colab": {
          "base_uri": "https://localhost:8080/",
          "height": 557
        },
        "id": "N73695Bdk98s",
        "outputId": "f5d6734a-b39e-4898-ab0d-483b34ed72fb"
      },
      "source": [
        "plt.figure(figsize=(9,9))\n",
        "sns.heatmap(confusion_matrix(y_test, cnn_pred), fmt='d', annot=True, cmap=plt.cm.Purples)\n",
        "plt.xlabel('Predicted')\n",
        "plt.ylabel('Actual')\n",
        "plt.show()"
      ],
      "execution_count": null,
      "outputs": [
        {
          "output_type": "display_data",
          "data": {
            "image/png": "[encoded data removed]",
            "text/plain": [
              "<Figure size 648x648 with 2 Axes>"
            ]
          },
          "metadata": {
            "tags": []
          }
        }
      ]
    },
    {
      "cell_type": "code",
      "metadata": {
        "colab": {
          "base_uri": "https://localhost:8080/",
          "height": 609
        },
        "id": "HB_1JcOigoT7",
        "outputId": "34977535-1dfc-4219-902f-1d0ea929cb71"
      },
      "source": [
        "cm = confusion_matrix(y_test, cnn_pred)\n",
        "\n",
        "plt.figure(figsize=(9,9))\n",
        "sns.heatmap(cm, cbar=False, xticklabels=labels, yticklabels=labels, fmt='d', annot=True, cmap=plt.cm.Blues)\n",
        "plt.xlabel('Predicted')\n",
        "plt.ylabel('Actual')\n",
        "plt.show()"
      ],
      "execution_count": null,
      "outputs": [
        {
          "output_type": "display_data",
          "data": {
            "image/png": "[encoded data removed]",
            "text/plain": [
              "<Figure size 648x648 with 1 Axes>"
            ]
          },
          "metadata": {
            "tags": []
          }
        }
      ]
    },
    {
      "cell_type": "code",
      "metadata": {
        "id": "jNSObqwzmCrt"
      },
      "source": [
        "arr=[]\n",
        "for i in X_train:\n",
        "  i=i.ravel()\n",
        "  arr.append(i)\n",
        "arr2=[]\n",
        "for i in X_test:\n",
        "  i=i.ravel()\n",
        "  arr2.append(i)"
      ],
      "execution_count": null,
      "outputs": []
    },
    {
      "cell_type": "code",
      "metadata": {
        "colab": {
          "base_uri": "https://localhost:8080/"
        },
        "id": "DDCBjf5GmDHf",
        "outputId": "3cafe6d2-ab0d-4105-cfce-973550d4482a"
      },
      "source": [
        "df_test=pd.DataFrame(arr2)\n",
        "df_test.shape"
      ],
      "execution_count": null,
      "outputs": [
        {
          "output_type": "execute_result",
          "data": {
            "text/plain": [
              "(10000, 1024)"
            ]
          },
          "metadata": {
            "tags": []
          },
          "execution_count": 26
        }
      ]
    },
    {
      "cell_type": "code",
      "metadata": {
        "id": "GW4zMecRmDIp"
      },
      "source": [
        "df=pd.DataFrame(arr)"
      ],
      "execution_count": null,
      "outputs": []
    },
    {
      "cell_type": "code",
      "metadata": {
        "colab": {
          "base_uri": "https://localhost:8080/"
        },
        "id": "Vem_mVm1qbcs",
        "outputId": "7b2f238c-7d4e-482d-84b1-a0bc5958f49e"
      },
      "source": [
        "df.shape"
      ],
      "execution_count": null,
      "outputs": [
        {
          "output_type": "execute_result",
          "data": {
            "text/plain": [
              "(50000, 1024)"
            ]
          },
          "metadata": {
            "tags": []
          },
          "execution_count": 29
        }
      ]
    },
    {
      "cell_type": "code",
      "metadata": {
        "id": "mo4A5wq7mDN9"
      },
      "source": [
        "data=pd.concat([df , df_test],axis=0)"
      ],
      "execution_count": null,
      "outputs": []
    },
    {
      "cell_type": "code",
      "metadata": {
        "colab": {
          "base_uri": "https://localhost:8080/"
        },
        "id": "ZkYS1ky8mKeW",
        "outputId": "f486be66-383b-48c6-b786-1a20296657b5"
      },
      "source": [
        "data.shape"
      ],
      "execution_count": null,
      "outputs": [
        {
          "output_type": "execute_result",
          "data": {
            "text/plain": [
              "(60000, 1024)"
            ]
          },
          "metadata": {
            "tags": []
          },
          "execution_count": 31
        }
      ]
    },
    {
      "cell_type": "code",
      "metadata": {
        "id": "u7iKI7fyrszm"
      },
      "source": [
        "y_train=ohe.inverse_transform(y_train)"
      ],
      "execution_count": null,
      "outputs": []
    },
    {
      "cell_type": "markdown",
      "metadata": {
        "id": "OQCtRuW9fd6_"
      },
      "source": [
        "<font color = 'yellow'><font size= 4>2. **Support Vector Machine (SVM)**"
      ]
    },
    {
      "cell_type": "code",
      "metadata": {
        "id": "75lRY56vgqG5"
      },
      "source": [
        "svm=SVC(C=1.0, kernel='linear', gamma='scale', \n",
        "                cache_size=200, class_weight=None, verbose=True, max_iter=- 1,random_state=42)"
      ],
      "execution_count": null,
      "outputs": []
    },
    {
      "cell_type": "code",
      "metadata": {
        "colab": {
          "base_uri": "https://localhost:8080/",
          "height": 320
        },
        "id": "GAJQbbougqIC",
        "outputId": "a32910b7-375b-4bfe-a93d-e1ff7b0ceadf"
      },
      "source": [
        "svm.fit(df, y_train.ravel())"
      ],
      "execution_count": null,
      "outputs": [
        {
          "output_type": "stream",
          "text": [
            "[LibSVM]"
          ],
          "name": "stdout"
        },
        {
          "output_type": "error",
          "ename": "KeyboardInterrupt",
          "evalue": "ignored",
          "traceback": [
            "\u001b[0;31m---------------------------------------------------------------------------\u001b[0m",
            "\u001b[0;31mKeyboardInterrupt\u001b[0m                         Traceback (most recent call last)",
            "\u001b[0;32m<ipython-input-36-b9ada72bceed>\u001b[0m in \u001b[0;36m<module>\u001b[0;34m()\u001b[0m\n\u001b[0;32m----> 1\u001b[0;31m \u001b[0msvm\u001b[0m\u001b[0;34m.\u001b[0m\u001b[0mfit\u001b[0m\u001b[0;34m(\u001b[0m\u001b[0mdf\u001b[0m\u001b[0;34m,\u001b[0m \u001b[0my_train\u001b[0m\u001b[0;34m.\u001b[0m\u001b[0mravel\u001b[0m\u001b[0;34m(\u001b[0m\u001b[0;34m)\u001b[0m\u001b[0;34m)\u001b[0m\u001b[0;34m\u001b[0m\u001b[0;34m\u001b[0m\u001b[0m\n\u001b[0m",
            "\u001b[0;32m/usr/local/lib/python3.7/dist-packages/sklearn/svm/_base.py\u001b[0m in \u001b[0;36mfit\u001b[0;34m(self, X, y, sample_weight)\u001b[0m\n\u001b[1;32m    197\u001b[0m \u001b[0;34m\u001b[0m\u001b[0m\n\u001b[1;32m    198\u001b[0m         \u001b[0mseed\u001b[0m \u001b[0;34m=\u001b[0m \u001b[0mrnd\u001b[0m\u001b[0;34m.\u001b[0m\u001b[0mrandint\u001b[0m\u001b[0;34m(\u001b[0m\u001b[0mnp\u001b[0m\u001b[0;34m.\u001b[0m\u001b[0miinfo\u001b[0m\u001b[0;34m(\u001b[0m\u001b[0;34m'i'\u001b[0m\u001b[0;34m)\u001b[0m\u001b[0;34m.\u001b[0m\u001b[0mmax\u001b[0m\u001b[0;34m)\u001b[0m\u001b[0;34m\u001b[0m\u001b[0;34m\u001b[0m\u001b[0m\n\u001b[0;32m--> 199\u001b[0;31m         \u001b[0mfit\u001b[0m\u001b[0;34m(\u001b[0m\u001b[0mX\u001b[0m\u001b[0;34m,\u001b[0m \u001b[0my\u001b[0m\u001b[0;34m,\u001b[0m \u001b[0msample_weight\u001b[0m\u001b[0;34m,\u001b[0m \u001b[0msolver_type\u001b[0m\u001b[0;34m,\u001b[0m \u001b[0mkernel\u001b[0m\u001b[0;34m,\u001b[0m \u001b[0mrandom_seed\u001b[0m\u001b[0;34m=\u001b[0m\u001b[0mseed\u001b[0m\u001b[0;34m)\u001b[0m\u001b[0;34m\u001b[0m\u001b[0;34m\u001b[0m\u001b[0m\n\u001b[0m\u001b[1;32m    200\u001b[0m         \u001b[0;31m# see comment on the other call to np.iinfo in this file\u001b[0m\u001b[0;34m\u001b[0m\u001b[0;34m\u001b[0m\u001b[0;34m\u001b[0m\u001b[0m\n\u001b[1;32m    201\u001b[0m \u001b[0;34m\u001b[0m\u001b[0m\n",
            "\u001b[0;32m/usr/local/lib/python3.7/dist-packages/sklearn/svm/_base.py\u001b[0m in \u001b[0;36m_dense_fit\u001b[0;34m(self, X, y, sample_weight, solver_type, kernel, random_seed)\u001b[0m\n\u001b[1;32m    256\u001b[0m                 \u001b[0mcache_size\u001b[0m\u001b[0;34m=\u001b[0m\u001b[0mself\u001b[0m\u001b[0;34m.\u001b[0m\u001b[0mcache_size\u001b[0m\u001b[0;34m,\u001b[0m \u001b[0mcoef0\u001b[0m\u001b[0;34m=\u001b[0m\u001b[0mself\u001b[0m\u001b[0;34m.\u001b[0m\u001b[0mcoef0\u001b[0m\u001b[0;34m,\u001b[0m\u001b[0;34m\u001b[0m\u001b[0;34m\u001b[0m\u001b[0m\n\u001b[1;32m    257\u001b[0m                 \u001b[0mgamma\u001b[0m\u001b[0;34m=\u001b[0m\u001b[0mself\u001b[0m\u001b[0;34m.\u001b[0m\u001b[0m_gamma\u001b[0m\u001b[0;34m,\u001b[0m \u001b[0mepsilon\u001b[0m\u001b[0;34m=\u001b[0m\u001b[0mself\u001b[0m\u001b[0;34m.\u001b[0m\u001b[0mepsilon\u001b[0m\u001b[0;34m,\u001b[0m\u001b[0;34m\u001b[0m\u001b[0;34m\u001b[0m\u001b[0m\n\u001b[0;32m--> 258\u001b[0;31m                 max_iter=self.max_iter, random_seed=random_seed)\n\u001b[0m\u001b[1;32m    259\u001b[0m \u001b[0;34m\u001b[0m\u001b[0m\n\u001b[1;32m    260\u001b[0m         \u001b[0mself\u001b[0m\u001b[0;34m.\u001b[0m\u001b[0m_warn_from_fit_status\u001b[0m\u001b[0;34m(\u001b[0m\u001b[0;34m)\u001b[0m\u001b[0;34m\u001b[0m\u001b[0;34m\u001b[0m\u001b[0m\n",
            "\u001b[0;31mKeyboardInterrupt\u001b[0m: "
          ]
        }
      ]
    },
    {
      "cell_type": "code",
      "metadata": {
        "id": "-OBFbpB5cGSu"
      },
      "source": [
        "svm_pred=svm.predict(df_test)"
      ],
      "execution_count": null,
      "outputs": []
    },
    {
      "cell_type": "code",
      "metadata": {
        "id": "IyNeO1lkm0zo"
      },
      "source": [
        "print(\"----------------\")\n",
        "print(\"\")\n",
        "print(\"Accuracy using SVM classifier: \",accuracy_score(y_test , svm_pred)*100)\n",
        "print(\"\")\n",
        "print(\"----------------\")"
      ],
      "execution_count": null,
      "outputs": []
    },
    {
      "cell_type": "markdown",
      "metadata": {
        "id": "5nvfEYp9feE-"
      },
      "source": [
        "<font color='yellow'><font size=4>3. **Linear Discriminant Analysis (LDA)**"
      ]
    },
    {
      "cell_type": "code",
      "metadata": {
        "colab": {
          "base_uri": "https://localhost:8080/"
        },
        "id": "rnoFluWPZnvj",
        "outputId": "2164fd87-db61-41a3-b1e2-8f66b68686aa"
      },
      "source": [
        "lda=LinearDiscriminantAnalysis()\n",
        "lda.fit(df, y_train.ravel())"
      ],
      "execution_count": null,
      "outputs": [
        {
          "output_type": "execute_result",
          "data": {
            "text/plain": [
              "LinearDiscriminantAnalysis(n_components=None, priors=None, shrinkage=None,\n",
              "                           solver='svd', store_covariance=False, tol=0.0001)"
            ]
          },
          "metadata": {
            "tags": []
          },
          "execution_count": 37
        }
      ]
    },
    {
      "cell_type": "code",
      "metadata": {
        "id": "0igYFtm_ZnzH"
      },
      "source": [
        "lda_pred=lda.predict(df_test)"
      ],
      "execution_count": null,
      "outputs": []
    },
    {
      "cell_type": "code",
      "metadata": {
        "colab": {
          "base_uri": "https://localhost:8080/"
        },
        "id": "425T3DtPZn0F",
        "outputId": "de7ac96e-7499-4ce3-9f16-6524009bf8eb"
      },
      "source": [
        "print(\"-----------------\")\n",
        "print(\"\")\n",
        "print(\"Accuracy using LDA: \",accuracy_score(y_test , lda_pred)*100)\n",
        "print(\"\")\n",
        "print(\"-----------------\")"
      ],
      "execution_count": null,
      "outputs": [
        {
          "output_type": "stream",
          "text": [
            "-----------------\n",
            "\n",
            "Accuracy using LDA:  28.299999999999997\n",
            "\n",
            "-----------------\n"
          ],
          "name": "stdout"
        }
      ]
    },
    {
      "cell_type": "markdown",
      "metadata": {
        "id": "JQVfdCiym1ky"
      },
      "source": [
        "<font color='yellow'><font size=4>4. **XGBoost**"
      ]
    },
    {
      "cell_type": "code",
      "metadata": {
        "id": "6GuCOY8znbXv"
      },
      "source": [
        "xgb_model = xgb.XGBClassifier(objective=\"multi:softprob\", random_state=42)\n",
        "xgb_model.fit(df, y_train.ravel())\n",
        "\n",
        "xg_pred = xgb_model.predict(df_test)"
      ],
      "execution_count": null,
      "outputs": []
    },
    {
      "cell_type": "code",
      "metadata": {
        "colab": {
          "base_uri": "https://localhost:8080/"
        },
        "id": "_vWQD2K0nbZi",
        "outputId": "e7909a5f-3a9f-4a75-98f3-c9d1cecb3fa7"
      },
      "source": [
        "print(\"---------------\")\n",
        "print(\"\")\n",
        "print(\"Accuracy using XGBoost: \", accuracy_score(y_test , xg_pred)*100)\n",
        "print(\"\")\n",
        "print(\"---------------\")"
      ],
      "execution_count": null,
      "outputs": [
        {
          "output_type": "stream",
          "text": [
            "---------------\n",
            "\n",
            "Accuracy using XGBoost:  38.1\n",
            "\n",
            "---------------\n"
          ],
          "name": "stdout"
        }
      ]
    },
    {
      "cell_type": "markdown",
      "metadata": {
        "id": "-4Wheh8FneBY"
      },
      "source": [
        "<font color='yellow'><font size=4>**5. Random Forest Classifier**"
      ]
    },
    {
      "cell_type": "code",
      "metadata": {
        "colab": {
          "base_uri": "https://localhost:8080/"
        },
        "id": "Wl1aSpOtn66V",
        "outputId": "e39eaaa6-6356-440a-c857-d9236c55ab40"
      },
      "source": [
        "rfc = RandomForestClassifier(n_estimators = 500, criterion = 'entropy', random_state = 42)\n",
        "rfc.fit(df, y_train.ravel())"
      ],
      "execution_count": null,
      "outputs": [
        {
          "output_type": "execute_result",
          "data": {
            "text/plain": [
              "RandomForestClassifier(bootstrap=True, ccp_alpha=0.0, class_weight=None,\n",
              "                       criterion='entropy', max_depth=None, max_features='auto',\n",
              "                       max_leaf_nodes=None, max_samples=None,\n",
              "                       min_impurity_decrease=0.0, min_impurity_split=None,\n",
              "                       min_samples_leaf=1, min_samples_split=2,\n",
              "                       min_weight_fraction_leaf=0.0, n_estimators=500,\n",
              "                       n_jobs=None, oob_score=False, random_state=42, verbose=0,\n",
              "                       warm_start=False)"
            ]
          },
          "metadata": {
            "tags": []
          },
          "execution_count": 42
        }
      ]
    },
    {
      "cell_type": "code",
      "metadata": {
        "id": "t1YBWv5Mn68I"
      },
      "source": [
        "rfc_pred=rfc.predict(df_test)"
      ],
      "execution_count": null,
      "outputs": []
    },
    {
      "cell_type": "code",
      "metadata": {
        "colab": {
          "base_uri": "https://localhost:8080/"
        },
        "id": "z_XcmlZOtCb7",
        "outputId": "3728d59d-a083-4372-a55e-880061928799"
      },
      "source": [
        "print(\"---------------\")\n",
        "print(\"\")\n",
        "print(\"Accuracy using RF Classifier: \", accuracy_score(y_test , rfc_pred)*100)\n",
        "print(\"\")\n",
        "print(\"---------------\")"
      ],
      "execution_count": null,
      "outputs": [
        {
          "output_type": "stream",
          "text": [
            "---------------\n",
            "\n",
            "Accuracy using RF Classifier:  43.580000000000005\n",
            "\n",
            "---------------\n"
          ],
          "name": "stdout"
        }
      ]
    },
    {
      "cell_type": "markdown",
      "metadata": {
        "id": "Xm9vlQnQneDS"
      },
      "source": [
        "<font color='yellow'><font size=4>**6. Naive Bayes - Gaussian NB**"
      ]
    },
    {
      "cell_type": "code",
      "metadata": {
        "id": "cGf0Q6Gwn7hT"
      },
      "source": [
        "gnb = GaussianNB().fit(df, y_train.ravel())\n",
        "gnb_pred = gnb.predict(df_test)"
      ],
      "execution_count": null,
      "outputs": []
    },
    {
      "cell_type": "code",
      "metadata": {
        "id": "sioT_hbfn7i2"
      },
      "source": [
        "acc = gnb.score(y_test, gnb_pred)"
      ],
      "execution_count": null,
      "outputs": []
    },
    {
      "cell_type": "code",
      "metadata": {
        "colab": {
          "base_uri": "https://localhost:8080/"
        },
        "id": "hoqa-ZO2tDxQ",
        "outputId": "ed4f3cee-2139-47d9-8fea-2e456a1fe26f"
      },
      "source": [
        "print(\"---------------\")\n",
        "print(\"\")\n",
        "print(\"Accuracy using Gaussian NB: \", acc*100)\n",
        "print(\"\")\n",
        "print(\"---------------\")"
      ],
      "execution_count": null,
      "outputs": [
        {
          "output_type": "stream",
          "text": [
            "---------------\n",
            "\n",
            "Accuracy using Gaussian NB:  5.5\n",
            "\n",
            "---------------\n"
          ],
          "name": "stdout"
        }
      ]
    }
  ]
}